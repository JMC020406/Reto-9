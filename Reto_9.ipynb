{
 "cells": [
  {
   "cell_type": "markdown",
   "metadata": {},
   "source": [
    "# Reto 9\n",
    "## Funciones 2\n",
    "### Punto 1 / De los retos anteriores selecione 3 funciones y escribalas en forma de lambdas.\n",
    "#### Punto 3 / Calcule la cantidad de carne de aves en kilos que se tienen."
   ]
  },
  {
   "cell_type": "code",
   "execution_count": null,
   "metadata": {},
   "outputs": [],
   "source": [
    "if __name__ == \"__main__\":\n",
    "    n=int(input(\"Ingrese la cantidad de gallinas: \"))\n",
    "    m=int(input(\"Ingrese la cantidad de gallos: \"))\n",
    "    k=int(input(\"Ingrese la cantidad de pollitos: \"))\n",
    "    carne_total=(lambda x, y, z: x*6 + y*7 + z*1)(n,m,k)\n",
    "    print(f\"si tenemos {n} gallinas, {m} gallos y {k} pollitos, entonces tenemos un total de {carne_total} Kg de carne.\")"
   ]
  },
  {
   "cell_type": "markdown",
   "metadata": {},
   "source": [
    "#### Punto 5 / Haga un programa que utilice una función para calcular el valor de un préstamo C usando interés compuesto del i por n meses."
   ]
  },
  {
   "cell_type": "code",
   "execution_count": null,
   "metadata": {},
   "outputs": [],
   "source": [
    "if __name__ == \"__main__\":\n",
    "    c=int(input(\"¿Cuanta plata tiene en su prestamo?: \"))\n",
    "    i=int(input(\"¿Que porcentaje de intereses se le esta aplicando a su prestamo?: \"))\n",
    "    t=int(input(\"Cuantos meses van a trancurrir?: \"))\n",
    "    total_final_plata = (lambda x, y, z : x*(1 + y/100)**z)(c, i, t)\n",
    "    print(f\"Tu prestamo de {c} pesos con un interes del {i}%, terminara siendo {total_final_plata} pesos, si transcuren {t} meses.\")"
   ]
  },
  {
   "cell_type": "markdown",
   "metadata": {},
   "source": [
    "#### Punto 6 / Número de contagiados de Covid-19 en el país de NuncaLandia."
   ]
  },
  {
   "cell_type": "code",
   "execution_count": null,
   "metadata": {},
   "outputs": [],
   "source": [
    "if __name__ == \"__main__\":\n",
    "    c=int(input(\"Ingrese la cantidad de contagiados iniciales: \"))\n",
    "    d=int(input(\"Ingrese el numero de dias que quiere que transcurran: \"))\n",
    "    contagiados=(lambda x, y: x*2**y)(c, d)\n",
    "    print(f\"Si tenemos {c} contagiados en el dia 0 y transcurren {d} días, entonces, la cantidad final de enfermos va a ser de {contagiados}\")"
   ]
  },
  {
   "cell_type": "markdown",
   "metadata": {},
   "source": [
    "### Punto 2 / De los retos anteriores selecione 3 funciones y escribalas con argumentos no definidos (*args).\n",
    "#### Punto 1 / Haga dos funciones para calcular el volumen y area superficial de una esfera y un cono."
   ]
  },
  {
   "cell_type": "code",
   "execution_count": null,
   "metadata": {},
   "outputs": [],
   "source": [
    "import math\n",
    "\n",
    "def volumen_figuras (*los_unicornios_deberian_existir_xd)->float:\n",
    "    for cuerno in los_unicornios_deberian_existir_xd:\n",
    "        calculo_volumen = (((3/4)*math.pi*re**3)+((h/3)*math.pi*rc**2))\n",
    "    return calculo_volumen\n",
    "\n",
    "def area_figuras (*los_unicornios_deberian_existir_xd)->float:\n",
    "    for cuerno in los_unicornios_deberian_existir_xd:\n",
    "        calculo_area_superficial = ((4*math.pi*re**2)+(((math.pi)*rc*(rc**2+h**2))+(math.pi*rc**2)))\n",
    "    return calculo_area_superficial\n",
    "\n",
    "if __name__ == \"__main__\":\n",
    "    re = float(input(\"Ingrese el radio de la esfera: \"))\n",
    "    rc = float(input(\"Ingrese el radio del cono: \"))\n",
    "    h = float(input(\"Ingrese la altura del cono: \"))\n",
    "\n",
    "    print(f\"La esfera de radio {re} junto al cono de radio {rc} y altura {h} tienen un volumen de {volumen_figuras(re, rc, h)} y un area superficial de {area_figuras(re, rc, h)}.\")"
   ]
  },
  {
   "cell_type": "markdown",
   "metadata": {},
   "source": [
    "#### Punto 2 / Haga dos funciones para calcular el área y perímetro de el rectangulo y los dos circulos congruentes."
   ]
  },
  {
   "cell_type": "code",
   "execution_count": null,
   "metadata": {},
   "outputs": [],
   "source": [
    "import math\n",
    "\n",
    "def perimetro_figura (*a_los_patos_no_les_gusta_el_pan)->float:\n",
    "    for pan in a_los_patos_no_les_gusta_el_pan:\n",
    "        calculo_perimetro = ((2*a + 2*b) + (2*(2*math.pi*r)))\n",
    "    return calculo_perimetro\n",
    "\n",
    "def area_figura (*a_los_patos_no_les_gusta_el_pan)->float:\n",
    "    for pan in a_los_patos_no_les_gusta_el_pan:\n",
    "        calculo_area = ((a*b)+(2*(math.pi*r**2)))\n",
    "    return calculo_area\n",
    "\n",
    "if __name__ == \"__main__\":\n",
    "    a=float(input(\"Ingrese la altura del rectangulo: \"))\n",
    "    b=float(input(\"ingrese el ancho del rectanguro: \"))\n",
    "    r=float(input(\"Ingrese el radio de los circulos: \"))\n",
    "\n",
    "    print(f\"El area de la figura con un rectangulo de {a} de altura, {b} de ancho y dos circulos de {r} de radio, es de {area_figura(a, b, r)} y su perimetro es de {perimetro_figura(a, b,r)}\")"
   ]
  },
  {
   "cell_type": "markdown",
   "metadata": {},
   "source": [
    "#### Punto 4 / Haga un programa que me diga cuento dinero me sobra o falta si mamá me da un billete de b pesos."
   ]
  },
  {
   "cell_type": "code",
   "execution_count": null,
   "metadata": {},
   "outputs": [],
   "source": [
    "def cuentas_del_mercado (*quiero_paz_quiero_amor_quiero_dulces_por_favor)->int:\n",
    "    for dulces in quiero_paz_quiero_amor_quiero_dulces_por_favor:\n",
    "        vueltas_pago = b - (p*300 + m*3300 + h*350)\n",
    "    return vueltas_pago\n",
    "\n",
    "if __name__ == \"__main__\":\n",
    "    p= int(input(\"¿Cuantos panes vas a comprar?: \"))\n",
    "    m= int(input(\"¿Cuantas bolsas de leche vas a comprar?: \"))\n",
    "    h= int(input(\"¿Cuantos huevos vas a comprar?: \"))\n",
    "    b= int(input(\"¿Cuanta plata te dio mamá?: \"))\n",
    "\n",
    "    if cuentas_del_mercado(p,m,h,b) < 0:\n",
    "        print(f\"O rayos, el dinero no es suficiente, te faltaron {-1*cuentas_del_mercado(p,m,h,b)} pesos, ve y busca a mamá para que te de más dinero.\")\n",
    "\n",
    "    elif cuentas_del_mercado(p,m,h,b) > 0:\n",
    "        print(f\"Wow, te sobraron {cuentas_del_mercado(p,m,h,b)} pesos, deberias comprarte un dulce como compensación de tu trabajo.\")\n",
    "\n",
    "    else:\n",
    "        print(f\"Te sobraron {cuentas_del_mercado(p,m,h,b)} pesos, regresa a casa.\")    "
   ]
  },
  {
   "cell_type": "markdown",
   "metadata": {},
   "source": [
    "### Punto 3 / Escriba una función recursiva para calcular la operación de la potencia."
   ]
  },
  {
   "cell_type": "code",
   "execution_count": null,
   "metadata": {},
   "outputs": [],
   "source": [
    "def potencia(e : int)-> int:\n",
    "  if e == 0: \n",
    "    return 1\n",
    "  else:\n",
    "    return base*potencia(e-1)\n",
    "\n",
    "if __name__ == \"__main__\":\n",
    "  base = int(input(\"Ingrese base: \"))\n",
    "  exp = int(input(\"Ingrese exponente: \"))\n",
    "  resultado = potencia(exp)\n",
    "  \n",
    "  print(f\"La potencia de {base}^{exp} es {resultado}\")"
   ]
  },
  {
   "cell_type": "markdown",
   "metadata": {},
   "source": [
    "### Punto 4 / Realice pruebas para calcular fibonacci con iteración o con recursión. Determine desde que número de la serie la diferencia de tiempo se vuelve significativa.\n",
    "#### Función Iterativa."
   ]
  },
  {
   "cell_type": "code",
   "execution_count": null,
   "metadata": {},
   "outputs": [],
   "source": [
    "import time\n",
    "\n",
    "def fibo(n : int )-> int:\n",
    "  i : int = 1\n",
    "  # caso base\n",
    "  n1 : int = 0\n",
    "  n2 : int = 1\n",
    "  while(i <= n):\n",
    "    # Condicion\n",
    "    sumFibo = n1 + n2\n",
    "    # Actualizacion\n",
    "    n1 = n2\n",
    "    n2 = sumFibo\n",
    "    i += 1\n",
    "  return sumFibo\n",
    "\n",
    "\n",
    "if __name__ == \"__main__\":\n",
    "  num = int(input(\"Ingrese numero: \"))\n",
    "  inicio_tiempo = time.time()\n",
    "  serieFibo = fibo(num)\n",
    "  print(\"La serie de Fibonacci hasta \" + str(num) + \" es \" + str(serieFibo))\n",
    "  fin_tiempo = time.time()\n",
    "\n",
    "tiempo_total = fin_tiempo - inicio_tiempo\n",
    "print(f\"El tiempo que se demoro la funcion iterativa fue de {tiempo_total}\")"
   ]
  },
  {
   "cell_type": "markdown",
   "metadata": {},
   "source": [
    "#### Función recursiva."
   ]
  },
  {
   "cell_type": "code",
   "execution_count": null,
   "metadata": {},
   "outputs": [],
   "source": [
    "import time\n",
    "\n",
    "def fiboRecursivo(n : int )-> int:\n",
    "  if n <=1:\n",
    "    # caso base\n",
    "    return 1\n",
    "  else:\n",
    "    # condicion\n",
    "    return fiboRecursivo(n-1)+fiboRecursivo(n-2)  \n",
    "\n",
    "if __name__ == \"__main__\":\n",
    "  num = int(input(\"Ingrese numero: \"))\n",
    "  inicio_tiempo = time.time()\n",
    "  serieFibo = fiboRecursivo(num)\n",
    "  print(\"La serie de Fibonacci hasta \" + str(num) + \" es \" + str(serieFibo))\n",
    "  fin_tiempo = time.time()\n",
    "\n",
    "tiempo_total = fin_tiempo - inicio_tiempo\n",
    "print(f\"El tiempo que se demoro la funcion recursiva fue de {tiempo_total}\")"
   ]
  }
 ],
 "metadata": {
  "language_info": {
   "name": "python"
  }
 },
 "nbformat": 4,
 "nbformat_minor": 2
}
